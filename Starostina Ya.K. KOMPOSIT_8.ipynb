{
 "cells": [
  {
   "cell_type": "markdown",
   "id": "29668adc",
   "metadata": {},
   "source": [
    "## Продолжение 7\n",
    "# ВЫПУСКНАЯ КВАЛИФИКАЦИОННАЯ РАБОТА\n",
    "слушателя курса \"Data Science\"\n",
    "\n",
    "Образовательного центра\n",
    "\n",
    "Московского государственного технического университета им. Н.Э. Баумана\n",
    "\n",
    "Старостиной Ярославы Константиновны"
   ]
  },
  {
   "cell_type": "markdown",
   "id": "8b816825",
   "metadata": {},
   "source": [
    "Написание приложения, которое будет выдавать прогноз параметра \"Соотношение матрица-наполнитель\""
   ]
  },
  {
   "cell_type": "code",
   "execution_count": null,
   "id": "2f9e449e",
   "metadata": {},
   "outputs": [
    {
     "name": "stdout",
     "output_type": "stream",
     "text": [
      " * Serving Flask app \"__main__\" (lazy loading)\n",
      " * Environment: production\n",
      "\u001b[31m   WARNING: This is a development server. Do not use it in a production deployment.\u001b[0m\n",
      "\u001b[2m   Use a production WSGI server instead.\u001b[0m\n",
      " * Debug mode: off\n"
     ]
    },
    {
     "name": "stderr",
     "output_type": "stream",
     "text": [
      " * Running on http://localhost:5555/ (Press CTRL+C to quit)\n"
     ]
    }
   ],
   "source": [
    "from datetime import datetime\n",
    "import numpy as np\n",
    "import pandas as pd\n",
    "import tensorflow as tf\n",
    "from tensorflow import keras\n",
    "from flask import Flask, render_template, request\n",
    "from os import environ\n",
    "\n",
    "app = Flask(__name__, template_folder='templates')\n",
    "\n",
    "@app.route('/', methods=['POST', 'GET'])\n",
    "\n",
    "@app.route('/home', methods=['POST', 'GET'])\n",
    "def home():\n",
    "    if request.method == 'GET':\n",
    "        return render_template(\n",
    "            'index.html',\n",
    "            title='Главная',\n",
    "            year=datetime.now().year,\n",
    "        )\n",
    "    \n",
    "    if request.method == 'POST': \n",
    "        with open('nn_model_komposit') as nn_model_komposit:\n",
    "            nn_model = tf.keras.models.load_model(nn_model_komposit)\n",
    "        cols = ['Плотность, кг/м3', \n",
    "                'модуль упругости, ГПа',\n",
    "                'Количество отвердителя, м.%', \n",
    "                'Содержание эпоксидных групп,%_2',\n",
    "                'Температура вспышки, С_2', \n",
    "                'Поверхностная плотность, г/м2',\n",
    "                'Модуль упругости при растяжении, ГПа', \n",
    "                'Прочность при растяжении, МПа',\n",
    "                'Потребление смолы, г/м2', \n",
    "                'Угол нашивки, град', \n",
    "                'Шаг нашивки',\n",
    "                'Плотность нашивки']\n",
    "        param_lst = [(request.form.get('param1')),\n",
    "                     (request.form.get('param2')),\n",
    "                     (request.form.get('param3')),\n",
    "                     (request.form.get('param4')),\n",
    "                     (request.form.get('param5')),\n",
    "                     (request.form.get('param6')),\n",
    "                     (request.form.get('param7')),\n",
    "                     (request.form.get('param8')),\n",
    "                     (request.form.get('param9')),\n",
    "                     (request.form.get('param10')),\n",
    "                     (request.form.get('param11')),\n",
    "                     (request.form.get('param12'))]\n",
    "        final = np.array(param_lst)\n",
    "        data_unseen = pd.DataFrame([final], columns=cols)\n",
    "        prediction = nn_model.predict([[data_unseen]])\n",
    "        return render_template('index.html', prediction)\n",
    "\n",
    "@app.route('/contact')\n",
    "def contact():\n",
    "    return render_template(\n",
    "        'contact.html',\n",
    "        title='Контакты',\n",
    "        year=datetime.now().year,\n",
    "        message='Мои контактные данные.'\n",
    "    )\n",
    "\n",
    "@app.route('/about')\n",
    "def about():\n",
    "    return render_template(\n",
    "        'about.html',\n",
    "        title='Описание',\n",
    "        year=datetime.now().year,\n",
    "        message='Описание приложения.'\n",
    "    )\n",
    "\n",
    "if __name__ == '__main__':\n",
    "    HOST = environ.get('SERVER_HOST', 'localhost')\n",
    "    try:\n",
    "        PORT = int(environ.get('SERVER_PORT', '5555'))\n",
    "    except ValueError:\n",
    "        PORT = 5555\n",
    "    app.run(HOST, PORT)"
   ]
  },
  {
   "cell_type": "code",
   "execution_count": null,
   "id": "b8940c79",
   "metadata": {},
   "outputs": [],
   "source": []
  }
 ],
 "metadata": {
  "kernelspec": {
   "display_name": "Python 3 (ipykernel)",
   "language": "python",
   "name": "python3"
  },
  "language_info": {
   "codemirror_mode": {
    "name": "ipython",
    "version": 3
   },
   "file_extension": ".py",
   "mimetype": "text/x-python",
   "name": "python",
   "nbconvert_exporter": "python",
   "pygments_lexer": "ipython3",
   "version": "3.9.13"
  }
 },
 "nbformat": 4,
 "nbformat_minor": 5
}
