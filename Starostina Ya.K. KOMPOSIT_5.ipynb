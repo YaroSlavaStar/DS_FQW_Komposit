{
 "cells": [
  {
   "cell_type": "markdown",
   "id": "39aea18a",
   "metadata": {},
   "source": [
    "# Продолжение 5\n",
    "\n",
    "# ВЫПУСКНАЯ КВАЛИФИКАЦИОННАЯ РАБОТА\n",
    "\n",
    "слушателя курса \"Data Science\"\n",
    "\n",
    "Образовательного центра\n",
    "\n",
    "Московского государственного технического университета им. Н.Э. Баумана\n",
    "\n",
    "Старостиной Ярославы Константиновны"
   ]
  },
  {
   "cell_type": "code",
   "execution_count": 1,
   "id": "916d7846",
   "metadata": {},
   "outputs": [],
   "source": [
    "import numpy as np\n",
    "import pandas as pd\n",
    "import sklearn\n",
    "import matplotlib.pyplot as plt\n",
    "import plotly.express as px\n",
    "import seaborn as sns\n",
    "import tensorflow as tf\n",
    "\n",
    "from numpy.random import seed\n",
    "from pandas import read_excel, DataFrame, Series\n",
    "from scipy import stats\n",
    "\n",
    "from sklearn.preprocessing import Normalizer, LabelEncoder, MinMaxScaler, StandardScaler, RobustScaler\n",
    "from sklearn.svm import SVR\n",
    "from sklearn.tree import DecisionTreeRegressor\n",
    "from sklearn import linear_model\n",
    "from sklearn.ensemble import RandomForestRegressor, GradientBoostingRegressor\n",
    "from sklearn.linear_model import BayesianRidge, LassoLars, LinearRegression, LogisticRegression, SGDRegressor, PoissonRegressor\n",
    "from sklearn.neighbors import KNeighborsRegressor\n",
    "from sklearn.metrics import mean_squared_error, r2_score, mean_absolute_percentage_error, mean_absolute_error\n",
    "from sklearn.model_selection import train_test_split, GridSearchCV, KFold, cross_val_score\n",
    "from sklearn.neural_network import MLPRegressor\n",
    "from sklearn.pipeline import make_pipeline, Pipeline\n",
    "from sklearn import preprocessing\n",
    "\n",
    "from tensorflow import keras as keras\n",
    "from tensorflow.keras import layers\n",
    "from tensorflow.keras.layers import Dense, Flatten, Dropout, Normalization, Activation\n",
    "from keras.wrappers.scikit_learn import KerasClassifier, KerasRegressor\n",
    "from tensorflow.keras.models import Sequential\n",
    "\n",
    "import warnings\n",
    "warnings.filterwarnings(\"ignore\")"
   ]
  },
  {
   "cell_type": "code",
   "execution_count": 2,
   "id": "7b667b5a",
   "metadata": {},
   "outputs": [
    {
     "data": {
      "text/plain": [
       "(1023, 15)"
      ]
     },
     "execution_count": 2,
     "metadata": {},
     "output_type": "execute_result"
    }
   ],
   "source": [
    "df = pd.read_excel(r\"C:\\Users\\Ярослава\\DS_FQW_Komposit\\Датасет для ВКР_композиты\\itog.xlsx\")\n",
    "df.shape"
   ]
  },
  {
   "cell_type": "markdown",
   "id": "b5fea87a",
   "metadata": {},
   "source": [
    "Разработка нейронной сети для прогнозирования величины \"Соотношение матрица-наполнитель\""
   ]
  },
  {
   "cell_type": "code",
   "execution_count": 3,
   "id": "8968eb72",
   "metadata": {},
   "outputs": [],
   "source": [
    "# Сформируем входы и выход для модели\n",
    "\n",
    "x = df.loc[:, df.columns != 'Соотношение матрица-наполнитель']\n",
    "y = df['Соотношение матрица-наполнитель']\n",
    "\n",
    "# Разбиваем выборки на обучающую и тестовую\n",
    "x_train, x_test, y_train, y_test = train_test_split(x, y, test_size = 0.3, random_state = 26)"
   ]
  },
  {
   "cell_type": "code",
   "execution_count": 4,
   "id": "315034eb",
   "metadata": {},
   "outputs": [
    {
     "name": "stdout",
     "output_type": "stream",
     "text": [
      "Fitting 10 folds for each of 1200 candidates, totalling 12000 fits\n",
      "Best score: -4.457734 using {'activation': 'softmax', 'batch_size': 12, 'epochs': 10, 'optimizer': 'SGD'}\n"
     ]
    }
   ],
   "source": [
    "# Определим лучшие параметры при помощи обёртки для API Scikit-Learn \n",
    "# https://ru-keras.com/scikit-learn-api/\n",
    "def build_model(activation='tanh', optimizer='SGD'):\n",
    "    my_model = Sequential()\n",
    "    my_model.add(Normalization(axis=-1))\n",
    "    my_model.add(Dense(units = 14 , activation= 'tanh'))\n",
    "    my_model.add(Dense(units = 14 , activation= 'tanh'))\n",
    "    my_model.add(Dropout(0.1))\n",
    "    my_model.add(Dense(units = 1 , activation= 'softmax'))\n",
    "    my_model.add(Normalization(axis=-1, invert=True))\n",
    "    \n",
    "    my_model.compile(loss='mean_squared_error', \n",
    "                     optimizer=optimizer, \n",
    "                     metrics=['mae', 'accuracy'])\n",
    "    return my_model\n",
    "\n",
    "my_model_kr = KerasRegressor(build_fn=build_model,\n",
    "                             epochs=10, \n",
    "                             batch_size=5,\n",
    "                             verbose=0)\n",
    "parameters = {'activation' : ['softmax', 'softplus', 'softsign', 'relu', 'tanh', 'sigmoid', 'exponential', 'linear'],\n",
    "              'batch_size' : [4, 8, 12, 16, 20],\n",
    "              'epochs' : [10, 50, 100, 200, 300],\n",
    "              'optimizer' : ['SGD', 'RMSprop', 'Adagrad', 'Adadelta', 'Adam', 'Nadam']}\n",
    "\n",
    "grid = GridSearchCV(estimator=my_model_kr, \n",
    "                    param_grid=parameters,\n",
    "                    cv=10,\n",
    "                    verbose=1, n_jobs=-1)\n",
    "\n",
    "grid_result = grid.fit(x_train, y_train)\n",
    "\n",
    "print(\"Best score: %f using %s\" % (grid_result.best_score_, grid_result.best_params_))"
   ]
  },
  {
   "cell_type": "markdown",
   "id": "df90b5fa",
   "metadata": {},
   "source": [
    "С учётом полученных данных перейдём к построению нейросети"
   ]
  },
  {
   "cell_type": "markdown",
   "id": "c2df7518",
   "metadata": {},
   "source": [
    "см.Продолжение 6"
   ]
  }
 ],
 "metadata": {
  "kernelspec": {
   "display_name": "Python 3 (ipykernel)",
   "language": "python",
   "name": "python3"
  },
  "language_info": {
   "codemirror_mode": {
    "name": "ipython",
    "version": 3
   },
   "file_extension": ".py",
   "mimetype": "text/x-python",
   "name": "python",
   "nbconvert_exporter": "python",
   "pygments_lexer": "ipython3",
   "version": "3.9.13"
  }
 },
 "nbformat": 4,
 "nbformat_minor": 5
}
